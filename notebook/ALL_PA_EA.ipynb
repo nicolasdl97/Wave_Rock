{
 "cells": [
  {
   "cell_type": "code",
   "execution_count": null,
   "id": "0f345760",
   "metadata": {},
   "outputs": [],
   "source": [
    "import pandas as pd \n",
    "\n",
    "# Construir la URL\n",
    "base_url = \"https://billing.izoswap.fr/admin/export/payments_attempts/\"\n",
    "websites=['ALL_','COU_']\n",
    "token = \"REMOVED_TOKEN\"  # tu token fijo\n",
    "url_PA = f\"{base_url}/{year}-{mes_str}/{token}/csv\"\n",
    "\n",
    "PA_M= https://billing.izoswap.fr/admin/export/payments_attempts/cou_/2025-08/REMOVED_TOKEN/men,first"
   ]
  }
 ],
 "metadata": {
  "kernelspec": {
   "display_name": "env",
   "language": "python",
   "name": "python3"
  },
  "language_info": {
   "codemirror_mode": {
    "name": "ipython",
    "version": 3
   },
   "file_extension": ".py",
   "mimetype": "text/x-python",
   "name": "python",
   "nbconvert_exporter": "python",
   "pygments_lexer": "ipython3",
   "version": "3.12.0"
  }
 },
 "nbformat": 4,
 "nbformat_minor": 5
}
