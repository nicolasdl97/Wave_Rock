{
 "cells": [
  {
   "cell_type": "code",
   "execution_count": 1,
   "id": "c355dc09",
   "metadata": {},
   "outputs": [
    {
     "name": "stdout",
     "output_type": "stream",
     "text": [
      "[OK] Guardado: ..\\data\\Error_Adquisition\\ALL_PA_M_2025-08_20250819_184908.csv | shape=(1468, 25)\n",
      "[OK] Guardado: ..\\data\\Error_Adquisition\\ALL_PA_Q_2025-08_20250819_184914.csv | shape=(2906, 25)\n"
     ]
    },
    {
     "data": {
      "text/plain": [
       "WindowsPath('../data/Error_Adquisition/ALL_PA_Q_2025-08_20250819_184914.csv')"
      ]
     },
     "execution_count": 1,
     "metadata": {},
     "output_type": "execute_result"
    }
   ],
   "source": [
    "import os\n",
    "import pandas as pd\n",
    "from pathlib import Path\n",
    "import requests\n",
    "from datetime import datetime\n",
    "from io import StringIO\n",
    "from dotenv import load_dotenv\n",
    "\n",
    "load_dotenv()  # carga .env si existe\n",
    "\n",
    "def fetch_and_save_EA(year: int, month: int, periodicity: str,\n",
    "                            base_url: str = \"https://billing.izoswap.fr/admin/export/suivi_error_acquisition_attempts\",\n",
    "                            token: str | None = None,\n",
    "                            out_dir: Path = Path(\"..\") / \"data\" / \"Error_Adquisition\") -> Path:\n",
    "    \"\"\"\n",
    "    periodicity: 'M' (mensual) -> usa endpoint 'all/.../men,first'\n",
    "                 'Q' (trimestral) -> usa endpoint 'ALL/.../first,trim'\n",
    "    El token se toma de ENV PAYMENTS_TOKEN si no se pasa por parámetro.\n",
    "    \"\"\"\n",
    "    periodicity = periodicity.upper().strip()\n",
    "    if periodicity not in {\"M\", \"Q\"}:\n",
    "        raise ValueError(\"periodicity debe ser 'M' o 'Q'\")\n",
    "\n",
    "    # Token desde env si no se pasa\n",
    "    token = token or os.getenv(\"PAYMENTS_TOKEN\")\n",
    "    if not token:\n",
    "        raise RuntimeError(\"Falta el token. Define PAYMENTS_TOKEN en el entorno o pásalo como argumento.\")\n",
    "\n",
    "    month_str = f\"{month:02d}\"\n",
    "    ym = f\"{year}-{month_str}\"\n",
    "\n",
    "    # Construcción de URL según periodicity\n",
    "    if periodicity == \"M\":\n",
    "        url = f\"{base_url}/all/{ym}/{token}/men,uad\"\n",
    "    else:\n",
    "        url = f\"{base_url}/ALL/{ym}/{token}/trim,uad\"\n",
    "\n",
    "    headers = {\"User-Agent\": \"Mozilla/5.0\"}\n",
    "    r = requests.get(url, headers=headers, timeout=60)\n",
    "    r.raise_for_status()\n",
    "    html = r.text\n",
    "\n",
    "    # Parseo robusto\n",
    "    try:\n",
    "        dfs = pd.read_html(StringIO(html))  # lxml\n",
    "    except Exception:\n",
    "        dfs = pd.read_html(StringIO(html), flavor=\"html5lib\")  # fallback\n",
    "    if not dfs:\n",
    "        raise ValueError(\"No se encontraron tablas en la página.\")\n",
    "\n",
    "    df = max(dfs, key=lambda d: (d.shape[1], d.shape[0])).copy()\n",
    "\n",
    "    out_dir.mkdir(parents=True, exist_ok=True)\n",
    "    timestamp = datetime.now().strftime(\"%Y%m%d_%H%M%S\")\n",
    "    filename = f\"ALL_PA_{periodicity}_2025-08_{timestamp}.csv\"  # según tu formato fijo\n",
    "    out_path = out_dir / filename\n",
    "    df.to_csv(out_path, index=False, encoding=\"utf-8\")\n",
    "    print(f\"[OK] Guardado: {out_path} | shape={df.shape}\")\n",
    "    return out_path\n",
    "\n",
    "# Uso:\n",
    "fetch_and_save_EA(2025, 8, \"M\")  # lee PAYMENTS_TOKEN del entorno\n",
    "fetch_and_save_EA(2025, 8, \"Q\")  # lee PAYMENTS_TOKEN del entorno"
   ]
  }
 ],
 "metadata": {
  "kernelspec": {
   "display_name": "env",
   "language": "python",
   "name": "python3"
  },
  "language_info": {
   "codemirror_mode": {
    "name": "ipython",
    "version": 3
   },
   "file_extension": ".py",
   "mimetype": "text/x-python",
   "name": "python",
   "nbconvert_exporter": "python",
   "pygments_lexer": "ipython3",
   "version": "3.12.0"
  }
 },
 "nbformat": 4,
 "nbformat_minor": 5
}
