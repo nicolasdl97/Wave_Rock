{
 "cells": [
  {
   "cell_type": "code",
   "execution_count": null,
   "id": "082cb9ae",
   "metadata": {},
   "outputs": [],
   "source": [
    "import os\n",
    "import requests\n",
    "import pandas as pd\n",
    "from io import StringIO\n",
    "from dotenv import load_dotenv\n",
    "from datetime import datetime\n",
    "\n",
    "load_dotenv()\n",
    "\n",
    "def export_debt_premium(year: int, month: int, out_dir: str = r\"..\\data\\Debt_premium\") -> tuple[pd.DataFrame, str]:\n",
    "    \"\"\"\n",
    "    Descarga, filtra y exporta a CSV los contratos premium con Abo Unique = 1.\n",
    "\n",
    "    Parámetros\n",
    "    ----------\n",
    "    year : int\n",
    "        Año de la consulta (ejemplo: 2025).\n",
    "    month : int\n",
    "        Mes de la consulta en formato numérico (ejemplo: 8 o 12).\n",
    "    out_dir : str, opcional\n",
    "        Carpeta donde se guardará el archivo. Por defecto ../data/Debt_premium\n",
    "\n",
    "    Retorna\n",
    "    -------\n",
    "    tuple[pd.DataFrame, str]\n",
    "        - DataFrame filtrado.\n",
    "        - Ruta completa del archivo generado.\n",
    "    \"\"\"\n",
    "    # Formatear año y mes\n",
    "    year_str = str(year)\n",
    "    month_str = f\"{month:02d}\"  # asegura siempre 2 dígitos (ej: 08, 12)\n",
    "\n",
    "    base_url = \"https://billing.izoswap.fr/admin/export/suivi_rebill/ALL\"\n",
    "    token = os.getenv(\"PAYMENTS_TOKEN\")\n",
    "    url = f\"{base_url}/{year_str}-{month_str}/{token}/csv\"\n",
    "\n",
    "    # Descargar CSV en memoria\n",
    "    response = requests.get(url)\n",
    "    response.raise_for_status()\n",
    "\n",
    "    df = pd.read_csv(StringIO(response.text), sep=\";\")\n",
    "\n",
    "    # Agregar columna UID\n",
    "    df[\"UID\"] = df[\"ID Contract\"].astype(str).str.extract(r\"_(.*)$\")\n",
    "\n",
    "    # Filtro\n",
    "    mask = (df[\"Abo Unique\"] == 1) & (df[\"Role\"] == \"Membre Premium\")\n",
    "    columns = [\"UID\", \"Date of Subscription\", \"Periodicity\"]\n",
    "    df_filtered = df.loc[mask, columns]\n",
    "\n",
    "    # Crear carpeta si no existe\n",
    "    os.makedirs(out_dir, exist_ok=True)\n",
    "\n",
    "    # Definir nombre del archivo\n",
    "    file_name = f\"Debt_premium_{year_str}_{month_str}.csv\"\n",
    "    file_path = os.path.join(out_dir, file_name)\n",
    "\n",
    "    # Exportar\n",
    "    df_filtered.to_csv(file_path, index=False)\n",
    "\n",
    "    return df_filtered, file_path\n"
   ]
  },
  {
   "cell_type": "code",
   "execution_count": null,
   "id": "04d916d8",
   "metadata": {},
   "outputs": [
    {
     "name": "stdout",
     "output_type": "stream",
     "text": [
      "(1193, 3)\n",
      "Archivo generado en: ..\\data\\Debt_premium\\Debt_premium_2025_08_20250820_200505.csv\n"
     ]
    }
   ],
   "source": [
    "df_premium, ruta = export_debt_premium(2025, 8)\n",
    "print(df_premium.shape)\n",
    "print(f\"Archivo generado en: {ruta}\")"
   ]
  },
  {
   "cell_type": "code",
   "execution_count": null,
   "id": "8f449ee9",
   "metadata": {},
   "outputs": [
    {
     "name": "stdout",
     "output_type": "stream",
     "text": [
      "Mes 01 -> 4458 filas exportadas en ..\\data\\Debt_premium\\Debt_premium_2025_01.csv\n",
      "Mes 02 -> 4157 filas exportadas en ..\\data\\Debt_premium\\Debt_premium_2025_02.csv\n"
     ]
    },
    {
     "name": "stderr",
     "output_type": "stream",
     "text": [
      "C:\\Users\\nicol\\AppData\\Local\\Temp\\ipykernel_26208\\1499641961.py:41: DtypeWarning: Columns (42,43) have mixed types. Specify dtype option on import or set low_memory=False.\n",
      "  df = pd.read_csv(StringIO(response.text), sep=\";\")\n"
     ]
    },
    {
     "name": "stdout",
     "output_type": "stream",
     "text": [
      "Mes 03 -> 3218 filas exportadas en ..\\data\\Debt_premium\\Debt_premium_2025_03.csv\n",
      "Mes 04 -> 3068 filas exportadas en ..\\data\\Debt_premium\\Debt_premium_2025_04.csv\n",
      "Mes 05 -> 2205 filas exportadas en ..\\data\\Debt_premium\\Debt_premium_2025_05.csv\n",
      "Mes 06 -> 2222 filas exportadas en ..\\data\\Debt_premium\\Debt_premium_2025_06.csv\n",
      "Mes 07 -> 1717 filas exportadas en ..\\data\\Debt_premium\\Debt_premium_2025_07.csv\n",
      "Mes 08 -> 1193 filas exportadas en ..\\data\\Debt_premium\\Debt_premium_2025_08.csv\n"
     ]
    }
   ],
   "source": [
    "for i in range(1,8):\n",
    "    df_premium, ruta = export_debt_premium(2025, i)\n",
    "    print(f\"Mes {i:02d} -> {df_premium.shape[0]} filas exportadas en {ruta}\")"
   ]
  }
 ],
 "metadata": {
  "kernelspec": {
   "display_name": "env",
   "language": "python",
   "name": "python3"
  },
  "language_info": {
   "codemirror_mode": {
    "name": "ipython",
    "version": 3
   },
   "file_extension": ".py",
   "mimetype": "text/x-python",
   "name": "python",
   "nbconvert_exporter": "python",
   "pygments_lexer": "ipython3",
   "version": "3.12.0"
  }
 },
 "nbformat": 4,
 "nbformat_minor": 5
}
